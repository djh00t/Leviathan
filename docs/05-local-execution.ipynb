{
  "cells": [
    {
      "cell_type": "markdown",
      "id": "e92c26d9",
      "metadata": {
        "id": "e92c26d9"
      },
      "source": [
        "[![Open In Colab](https://colab.research.google.com/assets/colab-badge.svg)](https://colab.research.google.com/github/aurelio-labs/semantic-router/blob/main/docs/05-local-execution.ipynb) [![Open nbviewer](https://raw.githubusercontent.com/pinecone-io/examples/master/assets/nbviewer-shield.svg)](https://nbviewer.org/github/aurelio-labs/semantic-router/blob/main/docs/05-local-execution.ipynb)"
      ]
    },
    {
      "cell_type": "markdown",
      "id": "ee50410e-3f98-4d9c-8838-b38aebd6ce77",
      "metadata": {
        "id": "ee50410e-3f98-4d9c-8838-b38aebd6ce77"
      },
      "source": [
        "# Local Dynamic Routes\n",
        "\n",
        "## Fully local Semantic Router with `llama.cpp` and HuggingFace Encoder\n",
        "\n",
        "There are many reasons users might choose to roll their own LLMs rather than use a third-party service. Whether it's due to cost, privacy or compliance, Semantic Router supports the use of \"local\" LLMs through `llama.cpp`.\n",
        "\n",
        "Using `llama.cpp` also enables the use of quantized GGUF models, reducing the memory footprint of deployed models, allowing even 13-billion parameter models to run with hardware acceleration on an Apple M1 Pro chip.\n",
        "\n",
        "Below is an example of using semantic router with **Mistral-7B-Instruct**, quantized i."
      ]
    },
    {
      "cell_type": "markdown",
      "id": "baa8d577-9f23-4dec-b167-fdecfb313c52",
      "metadata": {
        "id": "baa8d577-9f23-4dec-b167-fdecfb313c52"
      },
      "source": [
        "## Installing the library\n",
        "\n",
        "> Note: if you require hardware acceleration via BLAS, CUDA, Metal, etc. please refer to the [abetlen/llama-cpp-python](https://github.com/abetlen/llama-cpp-python#installation-with-specific-hardware-acceleration-blas-cuda-metal-etc) repository README.md"
      ]
    },
    {
      "cell_type": "code",
      "execution_count": null,
      "id": "f95e4906-c3e6-4905-8f13-5e67d67069d5",
      "metadata": {
        "id": "f95e4906-c3e6-4905-8f13-5e67d67069d5"
      },
      "outputs": [],
      "source": [
        "!pip install -U \"semantic-router[local]\""
      ]
    },
    {
      "cell_type": "markdown",
      "id": "0029cc6d",
      "metadata": {
        "id": "0029cc6d"
      },
      "source": [
        "If you're running on Apple silicon you can run the following to run with Metal hardware acceleration:"
      ]
    },
    {
      "cell_type": "code",
      "execution_count": null,
      "id": "4f9b5729",
      "metadata": {
        "id": "4f9b5729"
      },
      "outputs": [],
      "source": [
        "!CMAKE_ARGS=\"-DLLAMA_METAL=on\""
      ]
    },
    {
      "cell_type": "markdown",
      "id": "d2f52f11-ae6d-4706-8da3-ce03a7a6b92d",
      "metadata": {
        "id": "d2f52f11-ae6d-4706-8da3-ce03a7a6b92d"
      },
      "source": [
        "## Download the Mistral 7B Instruct 4-bit GGUF files\n",
        "\n",
        "We will be using Mistral 7B Instruct, quantized as a 4-bit GGUF file, a good balance between performance and ability to deploy on consumer hardware"
      ]
    },
    {
      "cell_type": "code",
      "execution_count": null,
      "id": "1d6ddf61-c189-4b3b-99df-9508f830ae1f",
      "metadata": {
        "id": "1d6ddf61-c189-4b3b-99df-9508f830ae1f"
      },
      "outputs": [],
      "source": [
        "! curl -L \"https://huggingface.co/TheBloke/Mistral-7B-Instruct-v0.2-GGUF/resolve/main/mistral-7b-instruct-v0.2.Q4_0.gguf?download=true\" -o ./mistral-7b-instruct-v0.2.Q4_0.gguf\n",
        "! ls mistral-7b-instruct-v0.2.Q4_0.gguf"
      ]
    },
    {
      "cell_type": "markdown",
      "id": "f6842324-0a81-44fb-a220-905af77601af",
      "metadata": {
        "id": "f6842324-0a81-44fb-a220-905af77601af"
      },
      "source": [
        "# Initializing Dynamic Routes\n",
        "\n",
        "Similar to the `02-dynamic-routes.ipynb` notebook, we will be initializing some dynamic routes that make use of LLMs for function calling"
      ]
    },
    {
      "cell_type": "code",
      "execution_count": null,
      "id": "e26db664-9dff-476a-84ef-edd7a8cdf1ba",
      "metadata": {
        "id": "e26db664-9dff-476a-84ef-edd7a8cdf1ba"
      },
      "outputs": [],
      "source": [
        "from datetime import datetime\n",
        "from zoneinfo import ZoneInfo\n",
        "\n",
        "from semantic_router import Route\n",
        "from semantic_router.utils.function_call import get_schema\n",
        "\n",
        "\n",
        "def get_time(timezone: str) -> str:\n",
        "    \"\"\"Finds the current time in a specific timezone.\n",
        "\n",
        "    :param timezone: The timezone to find the current time in, should\n",
        "        be a valid timezone from the IANA Time Zone Database like\n",
        "        \"America/New_York\" or \"Europe/London\". Do NOT put the place\n",
        "        name itself like \"rome\", or \"new york\", you must provide\n",
        "        the IANA format.\n",
        "    :type timezone: str\n",
        "    :return: The current time in the specified timezone.\"\"\"\n",
        "    now = datetime.now(ZoneInfo(timezone))\n",
        "    return now.strftime(\"%H:%M\")\n",
        "\n",
        "\n",
        "time_schema = get_schema(get_time)\n",
        "time_schema\n",
        "time = Route(\n",
        "    name=\"get_time\",\n",
        "    utterances=[\n",
        "        \"what is the time in new york city?\",\n",
        "        \"what is the time in london?\",\n",
        "        \"I live in Rome, what time is it?\",\n",
        "    ],\n",
        "    function_schemas=[time_schema],\n",
        ")\n",
        "\n",
        "politics = Route(\n",
        "    name=\"politics\",\n",
        "    utterances=[\n",
        "        \"isn't politics the best thing ever\",\n",
        "        \"why don't you tell me about your political opinions\",\n",
        "        \"don't you just love the president\" \"don't you just hate the president\",\n",
        "        \"they're going to destroy this country!\",\n",
        "        \"they will save the country!\",\n",
        "    ],\n",
        ")\n",
        "chitchat = Route(\n",
        "    name=\"chitchat\",\n",
        "    utterances=[\n",
        "        \"how's the weather today?\",\n",
        "        \"how are things going?\",\n",
        "        \"lovely weather today\",\n",
        "        \"the weather is horrendous\",\n",
        "        \"let's go to the chippy\",\n",
        "    ],\n",
        ")\n",
        "\n",
        "routes = [politics, chitchat, time]"
      ]
    },
    {
      "cell_type": "code",
      "execution_count": null,
      "id": "fac95b0c-c61f-4158-b7d9-0221f7d0b65e",
      "metadata": {
        "id": "fac95b0c-c61f-4158-b7d9-0221f7d0b65e"
      },
      "outputs": [],
      "source": [
        "time_schema"
      ]
    },
    {
      "cell_type": "markdown",
      "id": "ddd15620-92bd-4b77-99f4-c3fe68e9ab62",
      "metadata": {
        "id": "ddd15620-92bd-4b77-99f4-c3fe68e9ab62"
      },
      "source": [
        "# Encoders\n",
        "\n",
        "You can use alternative Encoders, however, in this example we want to showcase a fully-local Semantic Router execution, so we are going to use a `HuggingFaceEncoder` with `sentence-transformers/all-MiniLM-L6-v2` (the default) as an embedding model."
      ]
    },
    {
      "cell_type": "code",
      "execution_count": null,
      "id": "5253c141-141b-4fda-b07c-a313393902ed",
      "metadata": {
        "id": "5253c141-141b-4fda-b07c-a313393902ed"
      },
      "outputs": [],
      "source": [
        "from semantic_router.encoders import HuggingFaceEncoder\n",
        "\n",
        "encoder = HuggingFaceEncoder()"
      ]
    },
    {
      "cell_type": "markdown",
      "id": "512fb46e-352b-4740-971e-ad4d047aa03b",
      "metadata": {
        "id": "512fb46e-352b-4740-971e-ad4d047aa03b"
      },
      "source": [
        "# `llama.cpp` LLM\n",
        "\n",
        "From here, we can go ahead and instantiate our `llama-cpp-python` `llama_cpp.Llama` LLM, and then pass it to the `semantic_router.llms.LlamaCppLLM` wrapper class.\n",
        "\n",
        "For `llama_cpp.Llama`, there are a couple of parameters you should pay attention to:\n",
        "\n",
        "- `n_gpu_layers`: how many LLM layers to offload to the GPU (if you want to offload the entire model, pass `-1`, and for CPU execution, pass `0`)\n",
        "- `n_ctx`: context size, limit the number of tokens that can be passed to the LLM (this is bounded by the model's internal maximum context size, in this case for Mistral-7B-Instruct, 8000 tokens)\n",
        "- `verbose`: if `False`, silences output from `llama.cpp`\n",
        "\n",
        "> For other parameter explanation, refer to the `llama-cpp-python` [API Reference](https://llama-cpp-python.readthedocs.io/en/latest/api-reference/)"
      ]
    },
    {
      "cell_type": "code",
      "execution_count": null,
      "id": "772cec0d-7a0c-4c7e-9b7a-4a1864b0a8ec",
      "metadata": {
        "scrolled": true,
        "id": "772cec0d-7a0c-4c7e-9b7a-4a1864b0a8ec"
      },
      "outputs": [],
      "source": [
        "from semantic_router import RouteLayer\n",
        "\n",
        "from llama_cpp import Llama\n",
        "from semantic_router.llms.llamacpp import LlamaCppLLM\n",
        "\n",
        "enable_gpu = True  # offload LLM layers to the GPU (must fit in memory)\n",
        "\n",
        "_llm = Llama(\n",
        "    model_path=\"./mistral-7b-instruct-v0.2.Q4_0.gguf\",\n",
        "    n_gpu_layers=-1 if enable_gpu else 0,\n",
        "    n_ctx=2048,\n",
        ")\n",
        "_llm.verbose = False\n",
        "llm = LlamaCppLLM(name=\"Mistral-7B-v0.2-Instruct\", llm=_llm, max_tokens=None)\n",
        "\n",
        "rl = RouteLayer(encoder=encoder, routes=routes, llm=llm)"
      ]
    },
    {
      "cell_type": "code",
      "execution_count": null,
      "id": "a8bd1da4-8ff7-4cd3-a5e3-fd79a938cc67",
      "metadata": {
        "id": "a8bd1da4-8ff7-4cd3-a5e3-fd79a938cc67"
      },
      "outputs": [],
      "source": [
        "rl(\"how's the weather today?\")"
      ]
    },
    {
      "cell_type": "code",
      "execution_count": null,
      "id": "c6ccbea2-376b-4b28-9b79-d2e9c71e99f4",
      "metadata": {
        "scrolled": true,
        "id": "c6ccbea2-376b-4b28-9b79-d2e9c71e99f4"
      },
      "outputs": [],
      "source": [
        "out = rl(\"what's the time in New York right now?\")\n",
        "print(out)\n",
        "get_time(**out.function_call[0])"
      ]
    },
    {
      "cell_type": "code",
      "execution_count": null,
      "id": "720f976a",
      "metadata": {
        "id": "720f976a"
      },
      "outputs": [],
      "source": [
        "out = rl(\"what's the time in Rome right now?\")\n",
        "print(out)\n",
        "get_time(**out.function_call[0])"
      ]
    },
    {
      "cell_type": "code",
      "execution_count": null,
      "id": "c9d9dbbb",
      "metadata": {
        "id": "c9d9dbbb"
      },
      "outputs": [],
      "source": [
        "out = rl(\"what's the time in Bangkok right now?\")\n",
        "print(out)\n",
        "get_time(**out.function_call[0])"
      ]
    },
    {
      "cell_type": "code",
      "execution_count": null,
      "id": "675d12fd",
      "metadata": {
        "id": "675d12fd"
      },
      "outputs": [],
      "source": [
        "out = rl(\"what's the time in Phuket right now?\")\n",
        "print(out)\n",
        "get_time(**out.function_call[0])"
      ]
    },
    {
      "cell_type": "markdown",
      "id": "5200f550-f3be-43d7-9b76-6390360f07c8",
      "metadata": {
        "id": "5200f550-f3be-43d7-9b76-6390360f07c8"
      },
      "source": [
        "## Cleanup"
      ]
    },
    {
      "cell_type": "markdown",
      "id": "76df5f53",
      "metadata": {
        "id": "76df5f53"
      },
      "source": [
        "Once done, if you'd like to delete the downloaded model you can do so with the following:\n",
        "\n",
        "```\n",
        "! rm ./mistral-7b-instruct-v0.2.Q4_0.gguf\n",
        "```"
      ]
    }
  ],
  "metadata": {
    "kernelspec": {
      "display_name": "Python 3",
      "name": "python3"
    },
    "language_info": {
      "codemirror_mode": {
        "name": "ipython",
        "version": 3
      },
      "file_extension": ".py",
      "mimetype": "text/x-python",
      "name": "python",
      "nbconvert_exporter": "python",
      "pygments_lexer": "ipython3",
      "version": "3.11.4"
    },
    "colab": {
      "provenance": [],
      "gpuType": "T4"
    },
    "accelerator": "GPU"
  },
  "nbformat": 4,
  "nbformat_minor": 5
}