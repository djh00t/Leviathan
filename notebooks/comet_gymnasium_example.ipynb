{
  "cells": [
    {
      "cell_type": "markdown",
      "metadata": {
        "id": "P8EZh1CJd4sS"
      },
      "source": [
        "<img src=\"https://cdn.comet.ml/img/notebook_logo.png\">  <img height=90px align=\"right\" src=\"https://raw.githubusercontent.com/Farama-Foundation/Gymnasium/main/gymnasium-text.png\">\n",
        "\n",
        "[Comet](https://www.comet.com/?utm_source=gymnasium&utm_medium=partner&utm_campaign=partner_gymnasium_2023&utm_content=comet_colab) helps accelerate machine learning through experiment tracking and production monitoring. Never lose track of your work and easily share results and collaborate across teams of all sizes.\n",
        "\n",
        "**This notebook shows you how to log your Gymnasium metrics with Comet.** For more information about Comet's integration with Gymnasium, visit our [Docs](https://www.comet.com/docs/v2/integrations/ml-frameworks/gymnasium/?utm_source=gymnasium&utm_medium=partner&utm_campaign=partner_gymnasium_2023&utm_content=comet_colab) page.\n",
        "\n",
        "If you prefer to preview what's to come, check out completed experiments created from this notebook [here](https://www.comet.com/examples/comet-examples-gymnasium-notebook/?utm_source=gymnasium&utm_medium=partner&utm_campaign=partner_gymnasium_2023&utm_content=comet_colab).\n",
        "\n"
      ]
    },
    {
      "cell_type": "markdown",
      "metadata": {
        "id": "aAHdYTSjYofy"
      },
      "source": [
        "# Install Required Packages"
      ]
    },
    {
      "cell_type": "code",
      "execution_count": 16,
      "metadata": {
        "colab": {
          "base_uri": "https://localhost:8080/"
        },
        "id": "Z-z0jRNUY0gp",
        "outputId": "0860eca6-6126-4393-a6dc-02cf5808d12a"
      },
      "outputs": [
        {
          "name": "stdout",
          "output_type": "stream",
          "text": [
            "Requirement already satisfied: comet_ml in /opt/homebrew/Caskroom/miniconda/base/envs/Leviathan/lib/python3.12/site-packages (3.40.0)\n",
            "Requirement already satisfied: stable-baselines3 in /opt/homebrew/Caskroom/miniconda/base/envs/Leviathan/lib/python3.12/site-packages (2.3.0)\n",
            "Requirement already satisfied: ipywidgets in /opt/homebrew/Caskroom/miniconda/base/envs/Leviathan/lib/python3.12/site-packages (8.1.2)\n",
            "Collecting moviepy\n",
            "  Using cached moviepy-1.0.3.tar.gz (388 kB)\n",
            "  Preparing metadata (setup.py) ... \u001b[?25ldone\n",
            "\u001b[?25hRequirement already satisfied: gymnasium[classic-control] in /opt/homebrew/Caskroom/miniconda/base/envs/Leviathan/lib/python3.12/site-packages (0.29.1)\n",
            "Requirement already satisfied: numpy>=1.21.0 in /opt/homebrew/Caskroom/miniconda/base/envs/Leviathan/lib/python3.12/site-packages (from gymnasium[classic-control]) (1.26.3)\n",
            "Requirement already satisfied: cloudpickle>=1.2.0 in /opt/homebrew/Caskroom/miniconda/base/envs/Leviathan/lib/python3.12/site-packages (from gymnasium[classic-control]) (3.0.0)\n",
            "Requirement already satisfied: typing-extensions>=4.3.0 in /opt/homebrew/Caskroom/miniconda/base/envs/Leviathan/lib/python3.12/site-packages (from gymnasium[classic-control]) (4.11.0)\n",
            "Requirement already satisfied: farama-notifications>=0.0.1 in /opt/homebrew/Caskroom/miniconda/base/envs/Leviathan/lib/python3.12/site-packages (from gymnasium[classic-control]) (0.0.4)\n",
            "Requirement already satisfied: pygame>=2.1.3 in /opt/homebrew/Caskroom/miniconda/base/envs/Leviathan/lib/python3.12/site-packages (from gymnasium[classic-control]) (2.5.2)\n",
            "Requirement already satisfied: everett<3.2.0,>=1.0.1 in /opt/homebrew/Caskroom/miniconda/base/envs/Leviathan/lib/python3.12/site-packages (from everett[ini]<3.2.0,>=1.0.1->comet_ml) (3.1.0)\n",
            "Requirement already satisfied: jsonschema!=3.1.0,>=2.6.0 in /opt/homebrew/Caskroom/miniconda/base/envs/Leviathan/lib/python3.12/site-packages (from comet_ml) (4.20.0)\n",
            "Requirement already satisfied: psutil>=5.6.3 in /opt/homebrew/Caskroom/miniconda/base/envs/Leviathan/lib/python3.12/site-packages (from comet_ml) (5.9.8)\n",
            "Requirement already satisfied: python-box<7.0.0 in /opt/homebrew/Caskroom/miniconda/base/envs/Leviathan/lib/python3.12/site-packages (from comet_ml) (6.1.0)\n",
            "Requirement already satisfied: requests-toolbelt>=0.8.0 in /opt/homebrew/Caskroom/miniconda/base/envs/Leviathan/lib/python3.12/site-packages (from comet_ml) (1.0.0)\n",
            "Requirement already satisfied: requests>=2.18.4 in /opt/homebrew/Caskroom/miniconda/base/envs/Leviathan/lib/python3.12/site-packages (from comet_ml) (2.31.0)\n",
            "Requirement already satisfied: semantic-version>=2.8.0 in /opt/homebrew/Caskroom/miniconda/base/envs/Leviathan/lib/python3.12/site-packages (from comet_ml) (2.10.0)\n",
            "Requirement already satisfied: sentry-sdk>=1.1.0 in /opt/homebrew/Caskroom/miniconda/base/envs/Leviathan/lib/python3.12/site-packages (from comet_ml) (1.45.0)\n",
            "Requirement already satisfied: simplejson in /opt/homebrew/Caskroom/miniconda/base/envs/Leviathan/lib/python3.12/site-packages (from comet_ml) (3.19.2)\n",
            "Requirement already satisfied: six in /opt/homebrew/Caskroom/miniconda/base/envs/Leviathan/lib/python3.12/site-packages (from comet_ml) (1.16.0)\n",
            "Requirement already satisfied: urllib3>=1.21.1 in /opt/homebrew/Caskroom/miniconda/base/envs/Leviathan/lib/python3.12/site-packages (from comet_ml) (2.1.0)\n",
            "Requirement already satisfied: websocket-client<1.4.0,>=0.55.0 in /opt/homebrew/Caskroom/miniconda/base/envs/Leviathan/lib/python3.12/site-packages (from comet_ml) (1.3.3)\n",
            "Requirement already satisfied: wrapt>=1.11.2 in /opt/homebrew/Caskroom/miniconda/base/envs/Leviathan/lib/python3.12/site-packages (from comet_ml) (1.16.0)\n",
            "Requirement already satisfied: wurlitzer>=1.0.2 in /opt/homebrew/Caskroom/miniconda/base/envs/Leviathan/lib/python3.12/site-packages (from comet_ml) (3.0.3)\n",
            "Requirement already satisfied: dulwich!=0.20.33,>=0.20.6 in /opt/homebrew/Caskroom/miniconda/base/envs/Leviathan/lib/python3.12/site-packages (from comet_ml) (0.21.7)\n",
            "Requirement already satisfied: setuptools in /opt/homebrew/Caskroom/miniconda/base/envs/Leviathan/lib/python3.12/site-packages (from comet_ml) (69.2.0)\n",
            "Requirement already satisfied: rich>=13.3.2 in /opt/homebrew/Caskroom/miniconda/base/envs/Leviathan/lib/python3.12/site-packages (from comet_ml) (13.7.0)\n",
            "Requirement already satisfied: torch>=1.13 in /opt/homebrew/Caskroom/miniconda/base/envs/Leviathan/lib/python3.12/site-packages (from stable-baselines3) (2.2.2)\n",
            "Requirement already satisfied: pandas in /opt/homebrew/Caskroom/miniconda/base/envs/Leviathan/lib/python3.12/site-packages (from stable-baselines3) (2.2.2)\n",
            "Requirement already satisfied: matplotlib in /opt/homebrew/Caskroom/miniconda/base/envs/Leviathan/lib/python3.12/site-packages (from stable-baselines3) (3.8.4)\n",
            "Requirement already satisfied: comm>=0.1.3 in /opt/homebrew/Caskroom/miniconda/base/envs/Leviathan/lib/python3.12/site-packages (from ipywidgets) (0.2.2)\n",
            "Requirement already satisfied: ipython>=6.1.0 in /opt/homebrew/Caskroom/miniconda/base/envs/Leviathan/lib/python3.12/site-packages (from ipywidgets) (8.22.2)\n",
            "Requirement already satisfied: traitlets>=4.3.1 in /opt/homebrew/Caskroom/miniconda/base/envs/Leviathan/lib/python3.12/site-packages (from ipywidgets) (5.14.2)\n",
            "Requirement already satisfied: widgetsnbextension~=4.0.10 in /opt/homebrew/Caskroom/miniconda/base/envs/Leviathan/lib/python3.12/site-packages (from ipywidgets) (4.0.10)\n",
            "Requirement already satisfied: jupyterlab-widgets~=3.0.10 in /opt/homebrew/Caskroom/miniconda/base/envs/Leviathan/lib/python3.12/site-packages (from ipywidgets) (3.0.10)\n",
            "Collecting decorator<5.0,>=4.0.2 (from moviepy)\n",
            "  Using cached decorator-4.4.2-py2.py3-none-any.whl.metadata (4.2 kB)\n",
            "Collecting imageio<3.0,>=2.5 (from moviepy)\n",
            "  Using cached imageio-2.34.0-py3-none-any.whl.metadata (4.9 kB)\n",
            "Collecting imageio_ffmpeg>=0.2.0 (from moviepy)\n",
            "  Using cached imageio-ffmpeg-0.4.9.tar.gz (17 kB)\n",
            "  Preparing metadata (setup.py) ... \u001b[?25ldone\n",
            "\u001b[?25hRequirement already satisfied: tqdm<5.0,>=4.11.2 in /opt/homebrew/Caskroom/miniconda/base/envs/Leviathan/lib/python3.12/site-packages (from moviepy) (4.66.1)\n",
            "Collecting proglog<=1.0.0 (from moviepy)\n",
            "  Using cached proglog-0.1.10-py3-none-any.whl.metadata (639 bytes)\n",
            "Requirement already satisfied: configobj in /opt/homebrew/Caskroom/miniconda/base/envs/Leviathan/lib/python3.12/site-packages (from everett[ini]<3.2.0,>=1.0.1->comet_ml) (5.0.8)\n",
            "Requirement already satisfied: pillow>=8.3.2 in /opt/homebrew/Caskroom/miniconda/base/envs/Leviathan/lib/python3.12/site-packages (from imageio<3.0,>=2.5->moviepy) (10.2.0)\n",
            "Requirement already satisfied: jedi>=0.16 in /opt/homebrew/Caskroom/miniconda/base/envs/Leviathan/lib/python3.12/site-packages (from ipython>=6.1.0->ipywidgets) (0.19.1)\n",
            "Requirement already satisfied: matplotlib-inline in /opt/homebrew/Caskroom/miniconda/base/envs/Leviathan/lib/python3.12/site-packages (from ipython>=6.1.0->ipywidgets) (0.1.6)\n",
            "Requirement already satisfied: prompt-toolkit<3.1.0,>=3.0.41 in /opt/homebrew/Caskroom/miniconda/base/envs/Leviathan/lib/python3.12/site-packages (from ipython>=6.1.0->ipywidgets) (3.0.43)\n",
            "Requirement already satisfied: pygments>=2.4.0 in /opt/homebrew/Caskroom/miniconda/base/envs/Leviathan/lib/python3.12/site-packages (from ipython>=6.1.0->ipywidgets) (2.17.2)\n",
            "Requirement already satisfied: stack-data in /opt/homebrew/Caskroom/miniconda/base/envs/Leviathan/lib/python3.12/site-packages (from ipython>=6.1.0->ipywidgets) (0.6.2)\n",
            "Requirement already satisfied: pexpect>4.3 in /opt/homebrew/Caskroom/miniconda/base/envs/Leviathan/lib/python3.12/site-packages (from ipython>=6.1.0->ipywidgets) (4.9.0)\n",
            "Requirement already satisfied: attrs>=22.2.0 in /opt/homebrew/Caskroom/miniconda/base/envs/Leviathan/lib/python3.12/site-packages (from jsonschema!=3.1.0,>=2.6.0->comet_ml) (23.2.0)\n",
            "Requirement already satisfied: jsonschema-specifications>=2023.03.6 in /opt/homebrew/Caskroom/miniconda/base/envs/Leviathan/lib/python3.12/site-packages (from jsonschema!=3.1.0,>=2.6.0->comet_ml) (2023.12.1)\n",
            "Requirement already satisfied: referencing>=0.28.4 in /opt/homebrew/Caskroom/miniconda/base/envs/Leviathan/lib/python3.12/site-packages (from jsonschema!=3.1.0,>=2.6.0->comet_ml) (0.32.0)\n",
            "Requirement already satisfied: rpds-py>=0.7.1 in /opt/homebrew/Caskroom/miniconda/base/envs/Leviathan/lib/python3.12/site-packages (from jsonschema!=3.1.0,>=2.6.0->comet_ml) (0.16.2)\n",
            "Requirement already satisfied: charset-normalizer<4,>=2 in /opt/homebrew/Caskroom/miniconda/base/envs/Leviathan/lib/python3.12/site-packages (from requests>=2.18.4->comet_ml) (3.3.2)\n",
            "Requirement already satisfied: idna<4,>=2.5 in /opt/homebrew/Caskroom/miniconda/base/envs/Leviathan/lib/python3.12/site-packages (from requests>=2.18.4->comet_ml) (3.6)\n",
            "Requirement already satisfied: certifi>=2017.4.17 in /opt/homebrew/Caskroom/miniconda/base/envs/Leviathan/lib/python3.12/site-packages (from requests>=2.18.4->comet_ml) (2023.11.17)\n",
            "Requirement already satisfied: markdown-it-py>=2.2.0 in /opt/homebrew/Caskroom/miniconda/base/envs/Leviathan/lib/python3.12/site-packages (from rich>=13.3.2->comet_ml) (3.0.0)\n",
            "Requirement already satisfied: filelock in /opt/homebrew/Caskroom/miniconda/base/envs/Leviathan/lib/python3.12/site-packages (from torch>=1.13->stable-baselines3) (3.13.4)\n",
            "Requirement already satisfied: sympy in /opt/homebrew/Caskroom/miniconda/base/envs/Leviathan/lib/python3.12/site-packages (from torch>=1.13->stable-baselines3) (1.12)\n",
            "Requirement already satisfied: networkx in /opt/homebrew/Caskroom/miniconda/base/envs/Leviathan/lib/python3.12/site-packages (from torch>=1.13->stable-baselines3) (3.2.1)\n",
            "Requirement already satisfied: jinja2 in /opt/homebrew/Caskroom/miniconda/base/envs/Leviathan/lib/python3.12/site-packages (from torch>=1.13->stable-baselines3) (3.1.3)\n",
            "Requirement already satisfied: fsspec in /opt/homebrew/Caskroom/miniconda/base/envs/Leviathan/lib/python3.12/site-packages (from torch>=1.13->stable-baselines3) (2024.3.1)\n",
            "Requirement already satisfied: contourpy>=1.0.1 in /opt/homebrew/Caskroom/miniconda/base/envs/Leviathan/lib/python3.12/site-packages (from matplotlib->stable-baselines3) (1.2.1)\n",
            "Requirement already satisfied: cycler>=0.10 in /opt/homebrew/Caskroom/miniconda/base/envs/Leviathan/lib/python3.12/site-packages (from matplotlib->stable-baselines3) (0.12.1)\n",
            "Requirement already satisfied: fonttools>=4.22.0 in /opt/homebrew/Caskroom/miniconda/base/envs/Leviathan/lib/python3.12/site-packages (from matplotlib->stable-baselines3) (4.51.0)\n",
            "Requirement already satisfied: kiwisolver>=1.3.1 in /opt/homebrew/Caskroom/miniconda/base/envs/Leviathan/lib/python3.12/site-packages (from matplotlib->stable-baselines3) (1.4.5)\n",
            "Requirement already satisfied: packaging>=20.0 in /opt/homebrew/Caskroom/miniconda/base/envs/Leviathan/lib/python3.12/site-packages (from matplotlib->stable-baselines3) (24.0)\n",
            "Requirement already satisfied: pyparsing>=2.3.1 in /opt/homebrew/Caskroom/miniconda/base/envs/Leviathan/lib/python3.12/site-packages (from matplotlib->stable-baselines3) (3.1.2)\n",
            "Requirement already satisfied: python-dateutil>=2.7 in /opt/homebrew/Caskroom/miniconda/base/envs/Leviathan/lib/python3.12/site-packages (from matplotlib->stable-baselines3) (2.9.0)\n",
            "Requirement already satisfied: pytz>=2020.1 in /opt/homebrew/Caskroom/miniconda/base/envs/Leviathan/lib/python3.12/site-packages (from pandas->stable-baselines3) (2024.1)\n",
            "Requirement already satisfied: tzdata>=2022.7 in /opt/homebrew/Caskroom/miniconda/base/envs/Leviathan/lib/python3.12/site-packages (from pandas->stable-baselines3) (2024.1)\n",
            "Requirement already satisfied: parso<0.9.0,>=0.8.3 in /opt/homebrew/Caskroom/miniconda/base/envs/Leviathan/lib/python3.12/site-packages (from jedi>=0.16->ipython>=6.1.0->ipywidgets) (0.8.4)\n",
            "Requirement already satisfied: mdurl~=0.1 in /opt/homebrew/Caskroom/miniconda/base/envs/Leviathan/lib/python3.12/site-packages (from markdown-it-py>=2.2.0->rich>=13.3.2->comet_ml) (0.1.2)\n",
            "Requirement already satisfied: ptyprocess>=0.5 in /opt/homebrew/Caskroom/miniconda/base/envs/Leviathan/lib/python3.12/site-packages (from pexpect>4.3->ipython>=6.1.0->ipywidgets) (0.7.0)\n",
            "Requirement already satisfied: wcwidth in /opt/homebrew/Caskroom/miniconda/base/envs/Leviathan/lib/python3.12/site-packages (from prompt-toolkit<3.1.0,>=3.0.41->ipython>=6.1.0->ipywidgets) (0.2.13)\n",
            "Requirement already satisfied: MarkupSafe>=2.0 in /opt/homebrew/Caskroom/miniconda/base/envs/Leviathan/lib/python3.12/site-packages (from jinja2->torch>=1.13->stable-baselines3) (2.1.5)\n",
            "Requirement already satisfied: executing>=1.2.0 in /opt/homebrew/Caskroom/miniconda/base/envs/Leviathan/lib/python3.12/site-packages (from stack-data->ipython>=6.1.0->ipywidgets) (2.0.1)\n",
            "Requirement already satisfied: asttokens>=2.1.0 in /opt/homebrew/Caskroom/miniconda/base/envs/Leviathan/lib/python3.12/site-packages (from stack-data->ipython>=6.1.0->ipywidgets) (2.4.1)\n",
            "Requirement already satisfied: pure-eval in /opt/homebrew/Caskroom/miniconda/base/envs/Leviathan/lib/python3.12/site-packages (from stack-data->ipython>=6.1.0->ipywidgets) (0.2.2)\n",
            "Requirement already satisfied: mpmath>=0.19 in /opt/homebrew/Caskroom/miniconda/base/envs/Leviathan/lib/python3.12/site-packages (from sympy->torch>=1.13->stable-baselines3) (1.3.0)\n",
            "Downloading decorator-4.4.2-py2.py3-none-any.whl (9.2 kB)\n",
            "Downloading imageio-2.34.0-py3-none-any.whl (313 kB)\n",
            "\u001b[2K   \u001b[90m━━━━━━━━━━━━━━━━━━━━━━━━━━━━━━━━━━━━━━━━\u001b[0m \u001b[32m313.4/313.4 kB\u001b[0m \u001b[31m5.1 MB/s\u001b[0m eta \u001b[36m0:00:00\u001b[0ma \u001b[36m0:00:01\u001b[0m\n",
            "\u001b[?25hDownloading proglog-0.1.10-py3-none-any.whl (6.1 kB)\n",
            "Building wheels for collected packages: moviepy, imageio_ffmpeg\n",
            "  Building wheel for moviepy (setup.py) ... \u001b[?25ldone\n",
            "\u001b[?25h  Created wheel for moviepy: filename=moviepy-1.0.3-py3-none-any.whl size=110721 sha256=7cf7f040b4b0804f6ef77085ae2bdd7e74ea7b703093f2cc2759131951a4daa9\n",
            "  Stored in directory: /Users/djh/Library/Caches/pip/wheels/df/ba/4b/0917fc0c8833c8ba7016565fc975b74c67bc8610806e930272\n",
            "  Building wheel for imageio_ffmpeg (setup.py) ... \u001b[?25ldone\n",
            "\u001b[?25h  Created wheel for imageio_ffmpeg: filename=imageio_ffmpeg-0.4.9-py3-none-any.whl size=16367 sha256=6fcde273a9ca1ca8c987628dfd4a4c1814da28bbba03b89e470a94ed50481c3d\n",
            "  Stored in directory: /Users/djh/Library/Caches/pip/wheels/a9/f3/71/b10aff3a696c25fe3a90687753f161a456b153756362b74e5e\n",
            "Successfully built moviepy imageio_ffmpeg\n",
            "Installing collected packages: proglog, imageio_ffmpeg, imageio, decorator, moviepy\n",
            "  Attempting uninstall: decorator\n",
            "    Found existing installation: decorator 5.1.1\n",
            "    Uninstalling decorator-5.1.1:\n",
            "      Successfully uninstalled decorator-5.1.1\n",
            "Successfully installed decorator-4.4.2 imageio-2.34.0 imageio_ffmpeg-0.4.9 moviepy-1.0.3 proglog-0.1.10\n",
            "Note: you may need to restart the kernel to use updated packages.\n"
          ]
        }
      ],
      "source": [
        "%pip install 'gymnasium[classic-control]' comet_ml stable-baselines3 ipywidgets moviepy"
      ]
    },
    {
      "cell_type": "markdown",
      "metadata": {
        "id": "cDi2frwiY6UA"
      },
      "source": [
        "# Initialize Comet\n",
        "\n",
        "Create your free account at [Comet.com](https://www.comet.com/signup?utm_source=gymnasium&utm_medium=partner&utm_campaign=partner_gymnasium_2023&utm_content=comet_colab) and grab your API key which can be found under account settings."
      ]
    },
    {
      "cell_type": "code",
      "execution_count": null,
      "metadata": {
        "colab": {
          "base_uri": "https://localhost:8080/"
        },
        "id": "j9P00TNqmEXG",
        "outputId": "35ccb48e-1d62-4c1e-a301-9f0e4b597e9b"
      },
      "outputs": [
        {
          "data": {
            "application/vnd.jupyter.widget-view+json": {
              "model_id": "987fe9cea69a4805878d9542e08ef150",
              "version_major": 2,
              "version_minor": 0
            },
            "text/plain": [
              "Text(value='', continuous_update=False, description='API Key:', placeholder='Enter API key here')"
            ]
          },
          "metadata": {},
          "output_type": "display_data"
        },
        {
          "name": "stdout",
          "output_type": "stream",
          "text": [
            "API Key submitted: ee\n",
            "Saving config to \"/Users/djh/.comet.config\"... done!\n"
          ]
        },
        {
          "name": "stderr",
          "output_type": "stream",
          "text": [
            "\u001b[1;38;5;196mCOMET ERROR:\u001b[0m Invalid Comet API key for https://www.comet.com/clientlib/\n",
            "Please s*********REDACTED********* https://www.comet.com/docs/command-line/#comet-check for more information.\n",
            "Use: comet_ml.init() to try again\n"
          ]
        },
        {
          "name": "stdout",
          "output_type": "stream",
          "text": [
            "Comet ML initialized with the given API key.\n"
          ]
        },
        {
          "name": "stderr",
          "output_type": "stream",
          "text": [
            "\u001b[1;38;5;214mCOMET WARNING:\u001b[0m config setting 'api_key' failed with value '': invalid value\n"
          ]
        },
        {
          "name": "stdout",
          "output_type": "stream",
          "text": [
            "API Key submitted: \n",
            "Saving config to \"/Users/djh/.comet.config\"... done!\n"
          ]
        },
        {
          "name": "stderr",
          "output_type": "stream",
          "text": [
            "\u001b[1;38;5;196mCOMET ERROR:\u001b[0m Invalid Comet API key for https://www.comet.com/clientlib/\n",
            "Please s*********REDACTED********* https://www.comet.com/docs/command-line/#comet-check for more information.\n",
            "Use: comet_ml.init() to try again\n"
          ]
        },
        {
          "name": "stdout",
          "output_type": "stream",
          "text": [
            "Comet ML initialized with the given API key.\n"
          ]
        }
      ],
      "source": [
        "import ipywidgets as widgets\n",
        "from IPython.display import display\n",
        "import comet_ml\n",
        "\n",
        "# Create a text input widget\n",
        "api_key_input = widgets.Text(\n",
        "    value='',\n",
        "    placeholder='Enter API key here',\n",
        "    description='API Key:',\n",
        "    disabled=False,\n",
        "    continuous_update=False  # Ensures the event triggers only on submission\n",
        ")\n",
        "\n",
        "def initialize_comet(api_key):\n",
        "    # Save the API key to the configuration file\n",
        "    comet_ml.config.save(api_key=api_key, force=True)\n",
        "    \n",
        "    # Initialize Comet ML with the provided API key\n",
        "    comet_ml.init(project_name=\"comet-examples-gymnasium-notebook\")\n",
        "    print(\"Comet ML initialized with the given API key.\")\n",
        "\n",
        "# Function to handle when the API key changes (submitted)\n",
        "def handle_submit(change):\n",
        "    # Check if the text input is indeed a submission (enter pressed)\n",
        "    if change['type'] == 'change' and change['name'] == 'value':\n",
        "        print(\"API Key submitted:\", change['new'])\n",
        "        initialize_comet(change['new'])\n",
        "\n",
        "# Set the function to observe the 'value' change\n",
        "api_key_input.observe(handle_submit, 'value')\n",
        "\n",
        "# Display the widget\n",
        "display(api_key_input)\n"
      ]
    },
    {
      "cell_type": "markdown",
      "metadata": {
        "id": "031ezY2Dr2n4"
      },
      "source": [
        "# Train an Agent using StableBaselines3 A2C Algorithm"
      ]
    },
    {
      "cell_type": "code",
      "execution_count": 8,
      "metadata": {
        "colab": {
          "base_uri": "https://localhost:8080/"
        },
        "id": "P3uQi6W_sNF8",
        "outputId": "91317019-02a4-49aa-fca4-7b179b53e4a8"
      },
      "outputs": [
        {
          "name": "stderr",
          "output_type": "stream",
          "text": [
            "\u001b[1;38;5;214mCOMET WARNING:\u001b[0m As you are running in a Jupyter environment, you will n*********REDACTED*********d to call `experiment.end()` when finished to ensure all metrics and code are logged before exiting.\n",
            "\u001b[1;38;5;196mCOMET ERROR:\u001b[0m Failed to log git metadata\n",
            "\u001b[1;38;5;39mCOMET INFO:\u001b[0m Experiment is live on comet.com https://www.comet.com/djh00t/general/ed1ea37534b44db691784e9bda120a38\n",
            "\n",
            "\u001b[1;38;5;39mCOMET INFO:\u001b[0m ---------------------------------------------------------------------------------------\n",
            "\u001b[1;38;5;39mCOMET INFO:\u001b[0m Comet.ml Experiment Summary\n",
            "\u001b[1;38;5;39mCOMET INFO:\u001b[0m ---------------------------------------------------------------------------------------\n",
            "\u001b[1;38;5;39mCOMET INFO:\u001b[0m   Data:\n",
            "\u001b[1;38;5;39mCOMET INFO:\u001b[0m     display_summary_level : 1\n",
            "\u001b[1;38;5;39mCOMET INFO:\u001b[0m     name                  : implicit_pitch_6207\n",
            "\u001b[1;38;5;39mCOMET INFO:\u001b[0m     url                   : https://www.comet.com/djh00t/general/ed1ea37534b44db691784e9bda120a38\n",
            "\u001b[1;38;5;39mCOMET INFO:\u001b[0m   Metrics [count] (min, max):\n",
            "\u001b[1;38;5;39mCOMET INFO:\u001b[0m     episode_length [49] : (106, 496)\n",
            "\u001b[1;38;5;39mCOMET INFO:\u001b[0m     episode_reward [49] : (-495.0, -105.0)\n",
            "\u001b[1;38;5;39mCOMET INFO:\u001b[0m     loss [208]          : (-1.4467806816101074, 2988.757080078125)\n",
            "\u001b[1;38;5;39mCOMET INFO:\u001b[0m   Uploads:\n",
            "\u001b[1;38;5;39mCOMET INFO:\u001b[0m     conda-environment-definition : 1\n",
            "\u001b[1;38;5;39mCOMET INFO:\u001b[0m     conda-info                   : 1\n",
            "\u001b[1;38;5;39mCOMET INFO:\u001b[0m     conda-specification          : 1\n",
            "\u001b[1;38;5;39mCOMET INFO:\u001b[0m     environment details          : 1\n",
            "\u001b[1;38;5;39mCOMET INFO:\u001b[0m     filename                     : 1\n",
            "\u001b[1;38;5;39mCOMET INFO:\u001b[0m     installed packages           : 1\n",
            "\u001b[1;38;5;39mCOMET INFO:\u001b[0m     model graph                  : 1\n",
            "\u001b[1;38;5;39mCOMET INFO:\u001b[0m     notebook                     : 1\n",
            "\u001b[1;38;5;39mCOMET INFO:\u001b[0m     source_code                  : 1\n",
            "\u001b[1;38;5;39mCOMET INFO:\u001b[0m \n"
          ]
        }
      ],
      "source": [
        "from comet_ml.integration.gymnasium import CometLogger\n",
        "from stable_baselines3 import A2C\n",
        "import gymnasium as gym\n",
        "\n",
        "env = gym.make(\"Acrobot-v1\", render_mode=\"rgb_array\")\n",
        "\n",
        "# Uncomment if you want to Upload Videos of your environment to Comet\n",
        "# env = gym.wrappers.RecordVideo(env, 'test')\n",
        "\n",
        "experiment = comet_ml.Experiment()\n",
        "\n",
        "env = CometLogger(env, experiment)\n",
        "\n",
        "model = A2C(\"MlpPolicy\", env, verbose=0)\n",
        "model.learn(total_timesteps=10000)\n",
        "\n",
        "env.close()\n",
        "experiment.end()"
      ]
    },
    {
      "cell_type": "markdown",
      "metadata": {
        "id": "t7Shmw7saVmI"
      },
      "source": [
        "# Train an Agent using StableBaselines3 PPO Algorithm"
      ]
    },
    {
      "cell_type": "code",
      "execution_count": 9,
      "metadata": {
        "id": "lnLBuo8PaVmI"
      },
      "outputs": [
        {
          "name": "stderr",
          "output_type": "stream",
          "text": [
            "\u001b[1;38;5;214mCOMET WARNING:\u001b[0m As you are running in a Jupyter environment, you will n*********REDACTED*********d to call `experiment.end()` when finished to ensure all metrics and code are logged before exiting.\n",
            "\u001b[1;38;5;196mCOMET ERROR:\u001b[0m Failed to log git metadata\n",
            "\u001b[1;38;5;39mCOMET INFO:\u001b[0m Experiment is live on comet.com https://www.comet.com/djh00t/general/2e29c48c5543472580a472c34d5b2971\n",
            "\n",
            "\u001b[1;38;5;39mCOMET INFO:\u001b[0m ---------------------------------------------------------------------------------------\n",
            "\u001b[1;38;5;39mCOMET INFO:\u001b[0m Comet.ml Experiment Summary\n",
            "\u001b[1;38;5;39mCOMET INFO:\u001b[0m ---------------------------------------------------------------------------------------\n",
            "\u001b[1;38;5;39mCOMET INFO:\u001b[0m   Data:\n",
            "\u001b[1;38;5;39mCOMET INFO:\u001b[0m     display_summary_level : 1\n",
            "\u001b[1;38;5;39mCOMET INFO:\u001b[0m     name                  : theoretical_sparrow_5915\n",
            "\u001b[1;38;5;39mCOMET INFO:\u001b[0m     url                   : https://www.comet.com/djh00t/general/2e29c48c5543472580a472c34d5b2971\n",
            "\u001b[1;38;5;39mCOMET INFO:\u001b[0m   Metrics [count] (min, max):\n",
            "\u001b[1;38;5;39mCOMET INFO:\u001b[0m     episode_length [28] : (141, 500)\n",
            "\u001b[1;38;5;39mCOMET INFO:\u001b[0m     episode_reward [28] : (-500.0, -140.0)\n",
            "\u001b[1;38;5;39mCOMET INFO:\u001b[0m     loss [160]          : (16.034814834594727, 128.10379028320312)\n",
            "\u001b[1;38;5;39mCOMET INFO:\u001b[0m   Uploads:\n",
            "\u001b[1;38;5;39mCOMET INFO:\u001b[0m     conda-environment-definition : 1\n",
            "\u001b[1;38;5;39mCOMET INFO:\u001b[0m     conda-info                   : 1\n",
            "\u001b[1;38;5;39mCOMET INFO:\u001b[0m     conda-specification          : 1\n",
            "\u001b[1;38;5;39mCOMET INFO:\u001b[0m     environment details          : 1\n",
            "\u001b[1;38;5;39mCOMET INFO:\u001b[0m     filename                     : 1\n",
            "\u001b[1;38;5;39mCOMET INFO:\u001b[0m     installed packages           : 1\n",
            "\u001b[1;38;5;39mCOMET INFO:\u001b[0m     notebook                     : 1\n",
            "\u001b[1;38;5;39mCOMET INFO:\u001b[0m     source_code                  : 1\n",
            "\u001b[1;38;5;39mCOMET INFO:\u001b[0m \n",
            "\u001b[1;38;5;39mCOMET INFO:\u001b[0m Please wait for metadata to finish uploading (timeout is 3600 seconds)\n",
            "\u001b[1;38;5;39mCOMET INFO:\u001b[0m Uploading 22 metrics, params and output messages\n"
          ]
        }
      ],
      "source": [
        "from stable_baselines3 import PPO\n",
        "\n",
        "\n",
        "env = gym.make(\"Acrobot-v1\", render_mode=\"rgb_array\")\n",
        "\n",
        "# Uncomment if you want to Upload Videos of your environment to Comet\n",
        "# env = gym.wrappers.RecordVideo(env, 'test')\n",
        "\n",
        "experiment = comet_ml.Experiment()\n",
        "\n",
        "env = CometLogger(env, experiment)\n",
        "\n",
        "model = PPO(\"MlpPolicy\", env, verbose=0)\n",
        "model.learn(total_timesteps=10000)\n",
        "\n",
        "env.close()\n",
        "experiment.end()"
      ]
    },
    {
      "cell_type": "markdown",
      "metadata": {
        "id": "er66exCdaVmI"
      },
      "source": [
        "# Use Comet's UI to Benchmark Different RL Algorithims"
      ]
    },
    {
      "cell_type": "code",
      "execution_count": 12,
      "metadata": {
        "id": "vvCDCBu6aVmI"
      },
      "outputs": [
        {
          "data": {
            "text/html": [
              "\n",
              "        <iframe\n",
              "            width=\"100%\"\n",
              "            height=\"800px\"\n",
              "            src=\"https://www.comet.com/djh00t/general/2e29c48c5543472580a472c34d5b2971\"\n",
              "            frameborder=\"0\"\n",
              "            allowfullscreen\n",
              "            \n",
              "        ></iframe>\n",
              "        "
            ],
            "text/plain": [
              "<IPython.lib.display.IFrame at 0x12a4cf4a0>"
            ]
          },
          "metadata": {},
          "output_type": "display_data"
        }
      ],
      "source": [
        "experiment.display()"
      ]
    },
    {
      "cell_type": "code",
      "execution_count": null,
      "metadata": {},
      "outputs": [
        {
          "name": "stdout",
          "output_type": "stream",
          "text": [
            "Requirement already satisfied: comet_ml in /opt/homebrew/Caskroom/miniconda/base/envs/Leviathan/lib/python3.12/site-packages (3.40.0)\n",
            "Requirement already satisfied: stable-baselines3 in /opt/homebrew/Caskroom/miniconda/base/envs/Leviathan/lib/python3.12/site-packages (2.3.0)\n",
            "Requirement already satisfied: ipywidgets in /opt/homebrew/Caskroom/miniconda/base/envs/Leviathan/lib/python3.12/site-packages (8.1.2)\n",
            "Collecting moviepy\n",
            "  Using cached moviepy-1.0.3.tar.gz (388 kB)\n",
            "  Preparing metadata (setup.py) ... \u001b[?25ldone\n",
            "\u001b[?25hRequirement already satisfied: gymnasium[classic-control] in /opt/homebrew/Caskroom/miniconda/base/envs/Leviathan/lib/python3.12/site-packages (0.29.1)\n",
            "Requirement already satisfied: numpy>=1.21.0 in /opt/homebrew/Caskroom/miniconda/base/envs/Leviathan/lib/python3.12/site-packages (from gymnasium[classic-control]) (1.26.3)\n",
            "Requirement already satisfied: cloudpickle>=1.2.0 in /opt/homebrew/Caskroom/miniconda/base/envs/Leviathan/lib/python3.12/site-packages (from gymnasium[classic-control]) (3.0.0)\n",
            "Requirement already satisfied: typing-extensions>=4.3.0 in /opt/homebrew/Caskroom/miniconda/base/envs/Leviathan/lib/python3.12/site-packages (from gymnasium[classic-control]) (4.11.0)\n",
            "Requirement already satisfied: farama-notifications>=0.0.1 in /opt/homebrew/Caskroom/miniconda/base/envs/Leviathan/lib/python3.12/site-packages (from gymnasium[classic-control]) (0.0.4)\n",
            "Requirement already satisfied: pygame>=2.1.3 in /opt/homebrew/Caskroom/miniconda/base/envs/Leviathan/lib/python3.12/site-packages (from gymnasium[classic-control]) (2.5.2)\n",
            "Requirement already satisfied: everett<3.2.0,>=1.0.1 in /opt/homebrew/Caskroom/miniconda/base/envs/Leviathan/lib/python3.12/site-packages (from everett[ini]<3.2.0,>=1.0.1->comet_ml) (3.1.0)\n",
            "Requirement already satisfied: jsonschema!=3.1.0,>=2.6.0 in /opt/homebrew/Caskroom/miniconda/base/envs/Leviathan/lib/python3.12/site-packages (from comet_ml) (4.20.0)\n",
            "Requirement already satisfied: psutil>=5.6.3 in /opt/homebrew/Caskroom/miniconda/base/envs/Leviathan/lib/python3.12/site-packages (from comet_ml) (5.9.8)\n",
            "Requirement already satisfied: python-box<7.0.0 in /opt/homebrew/Caskroom/miniconda/base/envs/Leviathan/lib/python3.12/site-packages (from comet_ml) (6.1.0)\n",
            "Requirement already satisfied: requests-toolbelt>=0.8.0 in /opt/homebrew/Caskroom/miniconda/base/envs/Leviathan/lib/python3.12/site-packages (from comet_ml) (1.0.0)\n",
            "Requirement already satisfied: requests>=2.18.4 in /opt/homebrew/Caskroom/miniconda/base/envs/Leviathan/lib/python3.12/site-packages (from comet_ml) (2.31.0)\n",
            "Requirement already satisfied: semantic-version>=2.8.0 in /opt/homebrew/Caskroom/miniconda/base/envs/Leviathan/lib/python3.12/site-packages (from comet_ml) (2.10.0)\n",
            "Requirement already satisfied: sentry-sdk>=1.1.0 in /opt/homebrew/Caskroom/miniconda/base/envs/Leviathan/lib/python3.12/site-packages (from comet_ml) (1.45.0)\n",
            "Requirement already satisfied: simplejson in /opt/homebrew/Caskroom/miniconda/base/envs/Leviathan/lib/python3.12/site-packages (from comet_ml) (3.19.2)\n",
            "Requirement already satisfied: six in /opt/homebrew/Caskroom/miniconda/base/envs/Leviathan/lib/python3.12/site-packages (from comet_ml) (1.16.0)\n",
            "Requirement already satisfied: urllib3>=1.21.1 in /opt/homebrew/Caskroom/miniconda/base/envs/Leviathan/lib/python3.12/site-packages (from comet_ml) (2.1.0)\n",
            "Requirement already satisfied: websocket-client<1.4.0,>=0.55.0 in /opt/homebrew/Caskroom/miniconda/base/envs/Leviathan/lib/python3.12/site-packages (from comet_ml) (1.3.3)\n",
            "Requirement already satisfied: wrapt>=1.11.2 in /opt/homebrew/Caskroom/miniconda/base/envs/Leviathan/lib/python3.12/site-packages (from comet_ml) (1.16.0)\n",
            "Requirement already satisfied: wurlitzer>=1.0.2 in /opt/homebrew/Caskroom/miniconda/base/envs/Leviathan/lib/python3.12/site-packages (from comet_ml) (3.0.3)\n",
            "Requirement already satisfied: dulwich!=0.20.33,>=0.20.6 in /opt/homebrew/Caskroom/miniconda/base/envs/Leviathan/lib/python3.12/site-packages (from comet_ml) (0.21.7)\n",
            "Requirement already satisfied: setuptools in /opt/homebrew/Caskroom/miniconda/base/envs/Leviathan/lib/python3.12/site-packages (from comet_ml) (69.2.0)\n",
            "Requirement already satisfied: rich>=13.3.2 in /opt/homebrew/Caskroom/miniconda/base/envs/Leviathan/lib/python3.12/site-packages (from comet_ml) (13.7.0)\n",
            "Requirement already satisfied: torch>=1.13 in /opt/homebrew/Caskroom/miniconda/base/envs/Leviathan/lib/python3.12/site-packages (from stable-baselines3) (2.2.2)\n",
            "Requirement already satisfied: pandas in /opt/homebrew/Caskroom/miniconda/base/envs/Leviathan/lib/python3.12/site-packages (from stable-baselines3) (2.2.2)\n",
            "Requirement already satisfied: matplotlib in /opt/homebrew/Caskroom/miniconda/base/envs/Leviathan/lib/python3.12/site-packages (from stable-baselines3) (3.8.4)\n",
            "Requirement already satisfied: comm>=0.1.3 in /opt/homebrew/Caskroom/miniconda/base/envs/Leviathan/lib/python3.12/site-packages (from ipywidgets) (0.2.2)\n",
            "Requirement already satisfied: ipython>=6.1.0 in /opt/homebrew/Caskroom/miniconda/base/envs/Leviathan/lib/python3.12/site-packages (from ipywidgets) (8.22.2)\n",
            "Requirement already satisfied: traitlets>=4.3.1 in /opt/homebrew/Caskroom/miniconda/base/envs/Leviathan/lib/python3.12/site-packages (from ipywidgets) (5.14.2)\n",
            "Requirement already satisfied: widgetsnbextension~=4.0.10 in /opt/homebrew/Caskroom/miniconda/base/envs/Leviathan/lib/python3.12/site-packages (from ipywidgets) (4.0.10)\n",
            "Requirement already satisfied: jupyterlab-widgets~=3.0.10 in /opt/homebrew/Caskroom/miniconda/base/envs/Leviathan/lib/python3.12/site-packages (from ipywidgets) (3.0.10)\n",
            "Collecting decorator<5.0,>=4.0.2 (from moviepy)\n",
            "  Using cached decorator-4.4.2-py2.py3-none-any.whl.metadata (4.2 kB)\n",
            "Collecting imageio<3.0,>=2.5 (from moviepy)\n",
            "  Using cached imageio-2.34.0-py3-none-any.whl.metadata (4.9 kB)\n",
            "Collecting imageio_ffmpeg>=0.2.0 (from moviepy)\n",
            "  Using cached imageio-ffmpeg-0.4.9.tar.gz (17 kB)\n",
            "  Preparing metadata (setup.py) ... \u001b[?25ldone\n",
            "\u001b[?25hRequirement already satisfied: tqdm<5.0,>=4.11.2 in /opt/homebrew/Caskroom/miniconda/base/envs/Leviathan/lib/python3.12/site-packages (from moviepy) (4.66.1)\n",
            "Collecting proglog<=1.0.0 (from moviepy)\n",
            "  Using cached proglog-0.1.10-py3-none-any.whl.metadata (639 bytes)\n",
            "Requirement already satisfied: configobj in /opt/homebrew/Caskroom/miniconda/base/envs/Leviathan/lib/python3.12/site-packages (from everett[ini]<3.2.0,>=1.0.1->comet_ml) (5.0.8)\n",
            "Requirement already satisfied: pillow>=8.3.2 in /opt/homebrew/Caskroom/miniconda/base/envs/Leviathan/lib/python3.12/site-packages (from imageio<3.0,>=2.5->moviepy) (10.2.0)\n",
            "Requirement already satisfied: jedi>=0.16 in /opt/homebrew/Caskroom/miniconda/base/envs/Leviathan/lib/python3.12/site-packages (from ipython>=6.1.0->ipywidgets) (0.19.1)\n",
            "Requirement already satisfied: matplotlib-inline in /opt/homebrew/Caskroom/miniconda/base/envs/Leviathan/lib/python3.12/site-packages (from ipython>=6.1.0->ipywidgets) (0.1.6)\n",
            "Requirement already satisfied: prompt-toolkit<3.1.0,>=3.0.41 in /opt/homebrew/Caskroom/miniconda/base/envs/Leviathan/lib/python3.12/site-packages (from ipython>=6.1.0->ipywidgets) (3.0.43)\n",
            "Requirement already satisfied: pygments>=2.4.0 in /opt/homebrew/Caskroom/miniconda/base/envs/Leviathan/lib/python3.12/site-packages (from ipython>=6.1.0->ipywidgets) (2.17.2)\n",
            "Requirement already satisfied: stack-data in /opt/homebrew/Caskroom/miniconda/base/envs/Leviathan/lib/python3.12/site-packages (from ipython>=6.1.0->ipywidgets) (0.6.2)\n",
            "Requirement already satisfied: pexpect>4.3 in /opt/homebrew/Caskroom/miniconda/base/envs/Leviathan/lib/python3.12/site-packages (from ipython>=6.1.0->ipywidgets) (4.9.0)\n",
            "Requirement already satisfied: attrs>=22.2.0 in /opt/homebrew/Caskroom/miniconda/base/envs/Leviathan/lib/python3.12/site-packages (from jsonschema!=3.1.0,>=2.6.0->comet_ml) (23.2.0)\n",
            "Requirement already satisfied: jsonschema-specifications>=2023.03.6 in /opt/homebrew/Caskroom/miniconda/base/envs/Leviathan/lib/python3.12/site-packages (from jsonschema!=3.1.0,>=2.6.0->comet_ml) (2023.12.1)\n",
            "Requirement already satisfied: referencing>=0.28.4 in /opt/homebrew/Caskroom/miniconda/base/envs/Leviathan/lib/python3.12/site-packages (from jsonschema!=3.1.0,>=2.6.0->comet_ml) (0.32.0)\n",
            "Requirement already satisfied: rpds-py>=0.7.1 in /opt/homebrew/Caskroom/miniconda/base/envs/Leviathan/lib/python3.12/site-packages (from jsonschema!=3.1.0,>=2.6.0->comet_ml) (0.16.2)\n",
            "Requirement already satisfied: charset-normalizer<4,>=2 in /opt/homebrew/Caskroom/miniconda/base/envs/Leviathan/lib/python3.12/site-packages (from requests>=2.18.4->comet_ml) (3.3.2)\n",
            "Requirement already satisfied: idna<4,>=2.5 in /opt/homebrew/Caskroom/miniconda/base/envs/Leviathan/lib/python3.12/site-packages (from requests>=2.18.4->comet_ml) (3.6)\n",
            "Requirement already satisfied: certifi>=2017.4.17 in /opt/homebrew/Caskroom/miniconda/base/envs/Leviathan/lib/python3.12/site-packages (from requests>=2.18.4->comet_ml) (2023.11.17)\n",
            "Requirement already satisfied: markdown-it-py>=2.2.0 in /opt/homebrew/Caskroom/miniconda/base/envs/Leviathan/lib/python3.12/site-packages (from rich>=13.3.2->comet_ml) (3.0.0)\n",
            "Requirement already satisfied: filelock in /opt/homebrew/Caskroom/miniconda/base/envs/Leviathan/lib/python3.12/site-packages (from torch>=1.13->stable-baselines3) (3.13.4)\n",
            "Requirement already satisfied: sympy in /opt/homebrew/Caskroom/miniconda/base/envs/Leviathan/lib/python3.12/site-packages (from torch>=1.13->stable-baselines3) (1.12)\n",
            "Requirement already satisfied: networkx in /opt/homebrew/Caskroom/miniconda/base/envs/Leviathan/lib/python3.12/site-packages (from torch>=1.13->stable-baselines3) (3.2.1)\n",
            "Requirement already satisfied: jinja2 in /opt/homebrew/Caskroom/miniconda/base/envs/Leviathan/lib/python3.12/site-packages (from torch>=1.13->stable-baselines3) (3.1.3)\n",
            "Requirement already satisfied: fsspec in /opt/homebrew/Caskroom/miniconda/base/envs/Leviathan/lib/python3.12/site-packages (from torch>=1.13->stable-baselines3) (2024.3.1)\n",
            "Requirement already satisfied: contourpy>=1.0.1 in /opt/homebrew/Caskroom/miniconda/base/envs/Leviathan/lib/python3.12/site-packages (from matplotlib->stable-baselines3) (1.2.1)\n",
            "Requirement already satisfied: cycler>=0.10 in /opt/homebrew/Caskroom/miniconda/base/envs/Leviathan/lib/python3.12/site-packages (from matplotlib->stable-baselines3) (0.12.1)\n",
            "Requirement already satisfied: fonttools>=4.22.0 in /opt/homebrew/Caskroom/miniconda/base/envs/Leviathan/lib/python3.12/site-packages (from matplotlib->stable-baselines3) (4.51.0)\n",
            "Requirement already satisfied: kiwisolver>=1.3.1 in /opt/homebrew/Caskroom/miniconda/base/envs/Leviathan/lib/python3.12/site-packages (from matplotlib->stable-baselines3) (1.4.5)\n",
            "Requirement already satisfied: packaging>=20.0 in /opt/homebrew/Caskroom/miniconda/base/envs/Leviathan/lib/python3.12/site-packages (from matplotlib->stable-baselines3) (24.0)\n",
            "Requirement already satisfied: pyparsing>=2.3.1 in /opt/homebrew/Caskroom/miniconda/base/envs/Leviathan/lib/python3.12/site-packages (from matplotlib->stable-baselines3) (3.1.2)\n",
            "Requirement already satisfied: python-dateutil>=2.7 in /opt/homebrew/Caskroom/miniconda/base/envs/Leviathan/lib/python3.12/site-packages (from matplotlib->stable-baselines3) (2.9.0)\n",
            "Requirement already satisfied: pytz>=2020.1 in /opt/homebrew/Caskroom/miniconda/base/envs/Leviathan/lib/python3.12/site-packages (from pandas->stable-baselines3) (2024.1)\n",
            "Requirement already satisfied: tzdata>=2022.7 in /opt/homebrew/Caskroom/miniconda/base/envs/Leviathan/lib/python3.12/site-packages (from pandas->stable-baselines3) (2024.1)\n",
            "Requirement already satisfied: parso<0.9.0,>=0.8.3 in /opt/homebrew/Caskroom/miniconda/base/envs/Leviathan/lib/python3.12/site-packages (from jedi>=0.16->ipython>=6.1.0->ipywidgets) (0.8.4)\n",
            "Requirement already satisfied: mdurl~=0.1 in /opt/homebrew/Caskroom/miniconda/base/envs/Leviathan/lib/python3.12/site-packages (from markdown-it-py>=2.2.0->rich>=13.3.2->comet_ml) (0.1.2)\n",
            "Requirement already satisfied: ptyprocess>=0.5 in /opt/homebrew/Caskroom/miniconda/base/envs/Leviathan/lib/python3.12/site-packages (from pexpect>4.3->ipython>=6.1.0->ipywidgets) (0.7.0)\n",
            "Requirement already satisfied: wcwidth in /opt/homebrew/Caskroom/miniconda/base/envs/Leviathan/lib/python3.12/site-packages (from prompt-toolkit<3.1.0,>=3.0.41->ipython>=6.1.0->ipywidgets) (0.2.13)\n",
            "Requirement already satisfied: MarkupSafe>=2.0 in /opt/homebrew/Caskroom/miniconda/base/envs/Leviathan/lib/python3.12/site-packages (from jinja2->torch>=1.13->stable-baselines3) (2.1.5)\n",
            "Requirement already satisfied: executing>=1.2.0 in /opt/homebrew/Caskroom/miniconda/base/envs/Leviathan/lib/python3.12/site-packages (from stack-data->ipython>=6.1.0->ipywidgets) (2.0.1)\n",
            "Requirement already satisfied: asttokens>=2.1.0 in /opt/homebrew/Caskroom/miniconda/base/envs/Leviathan/lib/python3.12/site-packages (from stack-data->ipython>=6.1.0->ipywidgets) (2.4.1)\n",
            "Requirement already satisfied: pure-eval in /opt/homebrew/Caskroom/miniconda/base/envs/Leviathan/lib/python3.12/site-packages (from stack-data->ipython>=6.1.0->ipywidgets) (0.2.2)\n",
            "Requirement already satisfied: mpmath>=0.19 in /opt/homebrew/Caskroom/miniconda/base/envs/Leviathan/lib/python3.12/site-packages (from sympy->torch>=1.13->stable-baselines3) (1.3.0)\n",
            "Downloading decorator-4.4.2-py2.py3-none-any.whl (9.2 kB)\n",
            "Downloading imageio-2.34.0-py3-none-any.whl (313 kB)\n",
            "\u001b[2K   \u001b[90m━━━━━━━━━━━━━━━━━━━━━━━━━━━━━━━━━━━━━━━━\u001b[0m \u001b[32m313.4/313.4 kB\u001b[0m \u001b[31m5.1 MB/s\u001b[0m eta \u001b[36m0:00:00\u001b[0ma \u001b[36m0:00:01\u001b[0m\n",
            "\u001b[?25hDownloading proglog-0.1.10-py3-none-any.whl (6.1 kB)\n",
            "Building wheels for collected packages: moviepy, imageio_ffmpeg\n",
            "  Building wheel for moviepy (setup.py) ... \u001b[?25ldone\n",
            "\u001b[?25h  Created wheel for moviepy: filename=moviepy-1.0.3-py3-none-any.whl size=110721 sha256=7cf7f040b4b0804f6ef77085ae2bdd7e74ea7b703093f2cc2759131951a4daa9\n",
            "  Stored in directory: /Users/djh/Library/Caches/pip/wheels/df/ba/4b/0917fc0c8833c8ba7016565fc975b74c67bc8610806e930272\n",
            "  Building wheel for imageio_ffmpeg (setup.py) ... \u001b[?25ldone\n",
            "\u001b[?25h  Created wheel for imageio_ffmpeg: filename=imageio_ffmpeg-0.4.9-py3-none-any.whl size=16367 sha256=6fcde273a9ca1ca8c987628dfd4a4c1814da28bbba03b89e470a94ed50481c3d\n",
            "  Stored in directory: /Users/djh/Library/Caches/pip/wheels/a9/f3/71/b10aff3a696c25fe3a90687753f161a456b153756362b74e5e\n",
            "Successfully built moviepy imageio_ffmpeg\n",
            "Installing collected packages: proglog, imageio_ffmpeg, imageio, decorator, moviepy\n",
            "  Attempting uninstall: decorator\n",
            "    Found existing installation: decorator 5.1.1\n",
            "    Uninstalling decorator-5.1.1:\n",
            "      Successfully uninstalled decorator-5.1.1\n",
            "Successfully installed decorator-4.4.2 imageio-2.34.0 imageio_ffmpeg-0.4.9 moviepy-1.0.3 proglog-0.1.10\n",
            "Note: you may need to restart the kernel to use updated packages.\n"
          ]
        }
      ],
      "source": [
        "%pip install 'gymnasium[classic-control]' comet_ml stable-baselines3 ipywidgets moviepy"
      ]
    },
    {
      "cell_type": "code",
      "execution_count": 22,
      "metadata": {},
      "outputs": [
        {
          "name": "stderr",
          "output_type": "stream",
          "text": [
            "/var/folders/9d/fj02vmy10mn8j9y7ybz5n4h80000gn/T/ipykernel_75952/3884692820.py:49: DeprecationWarning: on_submit is deprecated. Instead, set the .continuous_update attribute to False and observe the value changing with: mywidget.observe(callback, 'value').\n",
            "  api_key_input.on_submit(handle_submit)\n"
          ]
        },
        {
          "data": {
            "application/vnd.jupyter.widget-view+json": {
              "model_id": "1b4463b3e83b4f329060561408370832",
              "version_major": 2,
              "version_minor": 0
            },
            "text/plain": [
              "Text(value='', continuous_update=False, description='API Key:', placeholder='Enter API key here')"
            ]
          },
          "metadata": {},
          "output_type": "display_data"
        }
      ],
      "source": [
        "import ipywidgets as widgets\n",
        "from IPython.display import display\n",
        "import comet_ml\n",
        "import gymnasium as gym\n",
        "from stable_baselines3 import A2C\n",
        "from comet_ml.integration.gymnasium import CometLogger\n",
        "import io\n",
        "\n",
        "# Function to initialize Comet and run the model training\n",
        "def initialize_comet_and_run_model(api_key):\n",
        "    comet_ml.config.save(api_key=api_key, force=True)\n",
        "    experiment = comet_ml.Experiment(api_key=api_key, project_name=\"comet-examples-gymnasium-notebook\")\n",
        "    print(\"Comet ML initialized.\")\n",
        "\n",
        "    # Set up the environment and model\n",
        "    env = gym.make(\"Acrobot-v1\", render_mode=\"rgb_array\")\n",
        "    env = gym.wrappers.RecordVideo(env, video_folder='video_output', step_trigger=lambda x: x % 100 == 0, video_length=200, fps=30)\n",
        "    env = CometLogger(env, experiment)\n",
        "    \n",
        "    model = A2C(\"MlpPolicy\", env, verbose=1)\n",
        "    model.learn(total_timesteps=10000)\n",
        "\n",
        "    # Log model architecture to Comet\n",
        "    s = io.StringIO()\n",
        "    print(model.policy, file=s)\n",
        "    experiment.log_asset_string(s.getvalue(), file_name=\"model_architecture.txt\")\n",
        "    s.close()\n",
        "\n",
        "    # Log a video file if it exists\n",
        "    experiment.log_asset_folder('video_output')\n",
        "\n",
        "    env.close()\n",
        "    experiment.end()\n",
        "\n",
        "# Create a text input widget for the API key\n",
        "api_key_input = widgets.Text(\n",
        "    value='',\n",
        "    placeholder='Enter API key here',\n",
        "    description='API Key:',\n",
        "    disabled=False,\n",
        "    continuous_update=False  # Ensures the event triggers only on submission\n",
        ")\n",
        "\n",
        "def handle_submit(sender):\n",
        "    # Once the API key is submitted, initialize Comet and run the model\n",
        "    initialize_comet_and_run_model(api_key_input.value)\n",
        "\n",
        "# Observe the widget for changes and handle the API key submission\n",
        "api_key_input.on_submit(handle_submit)\n",
        "\n",
        "# Display the widget\n",
        "display(api_key_input)\n"
      ]
    }
  ],
  "metadata": {
    "colab": {
      "provenance": []
    },
    "kernelspec": {
      "display_name": "Python 3 (ipykernel)",
      "language": "python",
      "name": "python3"
    },
    "language_info": {
      "codemirror_mode": {
        "name": "ipython",
        "version": 3
      },
      "file_extension": ".py",
      "mimetype": "text/x-python",
      "name": "python",
      "nbconvert_exporter": "python",
      "pygments_lexer": "ipython3",
      "version": "3.12.0"
    },
    "vscode": {
      "interpreter": {
        "hash": "8c9587381b2341d562742e36a89690be32a732b11830813473890249dd40a07d"
      }
    }
  },
  "nbformat": 4,
  "nbformat_minor": 0
}
